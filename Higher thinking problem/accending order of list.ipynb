{
 "cells": [
  {
   "cell_type": "code",
   "execution_count": 10,
   "metadata": {},
   "outputs": [
    {
     "name": "stdout",
     "output_type": "stream",
     "text": [
      "[3, 4, 5, 6, 7, 8, 8.35, 23, 34]\n"
     ]
    }
   ],
   "source": [
    "lst1=[23,34,3,4,5,6,7,8,8.35]\n",
    "lst2=lst1.copy() # copy of lst1\n",
    "lst_acending=[] # crete empty list fo appending\n",
    "for i in range(len(lst2)): # alliterating over each no in given list\n",
    "    min=lst2[0] # assuming list first as least value\n",
    "    for j in lst2: # once again alliterating each value\n",
    "        if i<min: # if i becomes min\n",
    "            min=i # so now min value changed and become that i value\n",
    "    lst_acending.append(min) # now that value appending each time\n",
    "    lst2.remove(min) # we put this to avoid repetation \n",
    "print(lst_acending)\n"
   ]
  },
  {
   "cell_type": "code",
   "execution_count": null,
   "metadata": {},
   "outputs": [],
   "source": []
  }
 ],
 "metadata": {
  "kernelspec": {
   "display_name": "Python 3",
   "language": "python",
   "name": "python3"
  },
  "language_info": {
   "codemirror_mode": {
    "name": "ipython",
    "version": 3
   },
   "file_extension": ".py",
   "mimetype": "text/x-python",
   "name": "python",
   "nbconvert_exporter": "python",
   "pygments_lexer": "ipython3",
   "version": "3.11.4"
  }
 },
 "nbformat": 4,
 "nbformat_minor": 2
}
