{
 "cells": [
  {
   "cell_type": "markdown",
   "metadata": {},
   "source": [
    "Create a Morse code translator."
   ]
  },
  {
   "cell_type": "code",
   "execution_count": 1,
   "metadata": {},
   "outputs": [],
   "source": [
    "# first we creat a morce code dict\n",
    "morce_code={'A':'.-', 'B':'-...', 'C':'-.-.', 'D':'-..', 'E':'.', 'F':'..-.', 'G':'--.', 'H':'....',\n",
    "            'I':'..', 'J':'.---', 'K':'-.-', 'L':'.-..', 'M':'--', 'N':'-.', 'O':'---', 'P':'.--.', \n",
    "            'Q':'--.-','R':'.-.', 'S':'...', 'T':'-', 'U':'..-', 'V':'...-', 'W':'.--', 'X':'-..-', \n",
    "            'Y':'-.--', 'Z':'--..', '1':'.----', '2':'..---', '3':'...--', '4':'....-', '5':'.....', \n",
    "            '6':'-....', '7':'--...', '8':'---..', '9':'----.', '0':'-----', ', ':'--..--', '.':'.-.-.-', \n",
    "            '?':'..--..', '/':'-..-.', '-':'-....-', '(':'-.--.', ')':'-.--.-'}\n",
    "\n",
    "def mors_code(str):# defining morse code function  \n",
    "    str=str.upper()\n",
    "    code=''\n",
    "    for i in str: # alliterating over all the number\n",
    "            if i!=' ': # when it is not equal\n",
    "                code+=(morce_code[i]+' ')\n",
    "            else:\n",
    "                code+='/ '  # here we are donate it for space      \n",
    "    return code\n",
    "\n",
    "\n",
    "def morce_decript(str2):# converting morsh to string\n",
    "    str2_list=str2.split()\n",
    "    string=''\n",
    "    str2_dict={}        #str2_dict storing key and value \n",
    "    for key,value in morce_code.items(): # alliterating every key and value in dictionary\n",
    "        key,value=key,value # when both are equal\n",
    "        str2_dict[value]=key # then inserting to dictionary\n",
    "    \n",
    "    for i in str2_list: # again alliterating over str2_lst list\n",
    "        if i=='/': # when it is equal\n",
    "            string+=' '\n",
    "        else:\n",
    "            string+=str2_dict[i]        \n",
    "    return string.strip()"
   ]
  },
  {
   "cell_type": "code",
   "execution_count": 2,
   "metadata": {},
   "outputs": [
    {
     "data": {
      "text/plain": [
       "'... --. .--- '"
      ]
     },
     "execution_count": 2,
     "metadata": {},
     "output_type": "execute_result"
    }
   ],
   "source": [
    "mors_code('sgj')"
   ]
  },
  {
   "cell_type": "code",
   "execution_count": null,
   "metadata": {},
   "outputs": [],
   "source": []
  }
 ],
 "metadata": {
  "kernelspec": {
   "display_name": "Python 3",
   "language": "python",
   "name": "python3"
  },
  "language_info": {
   "codemirror_mode": {
    "name": "ipython",
    "version": 3
   },
   "file_extension": ".py",
   "mimetype": "text/x-python",
   "name": "python",
   "nbconvert_exporter": "python",
   "pygments_lexer": "ipython3",
   "version": "3.11.4"
  }
 },
 "nbformat": 4,
 "nbformat_minor": 2
}
