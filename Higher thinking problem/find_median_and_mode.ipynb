{
 "cells": [
  {
   "cell_type": "markdown",
   "metadata": {},
   "source": [
    "Given a list of numbers, find out the median and mode."
   ]
  },
  {
   "cell_type": "code",
   "execution_count": 1,
   "metadata": {},
   "outputs": [
    {
     "name": "stdout",
     "output_type": "stream",
     "text": [
      "[1, 2, 3, 5, 6, 6, 7, 9, 52]\n",
      "{'mode': [6], 'median': 6}\n"
     ]
    }
   ],
   "source": [
    "\n",
    "lst1=[1,6,2,52,3,5,6,7,9]\n",
    "list1=[]        \n",
    "mode_list=[]    #  free variable to show frequency of no\n",
    "mode_dict={}    # free variable with their frequency of number in dictionary \n",
    "my_dict={}    # final result\n",
    "for i in range(len(lst1)):# alliterating over range function\n",
    "    for j in range(i+1,len(lst1)):\n",
    "        if lst1[i]>lst1[j]: # find max no\n",
    "            lst1[i],lst1[j]=lst1[j],lst1[i]\n",
    "print(lst1)\n",
    "\n",
    "# for find mode\n",
    "for i in lst1: # alliterating over all number\n",
    "    if i not in list1: # if not exit in list\n",
    "        list1.append(i) # appending\n",
    "        count=0\n",
    "        for j in lst1: # alliterating over all number\n",
    "            if i==j:# when both are equal\n",
    "                count+=1 # count every number\n",
    "        mode_dict[i]=count # inserting in dictionary\n",
    "# find maximum number\n",
    "max_value=0 # free variable to find max no\n",
    "for value in mode_dict.values(): # alliterating over all the number in values\n",
    "    if value>max_value: # if values is max than define number\n",
    "        max_value=value # it will change every time\n",
    "\n",
    "# more frequently number\n",
    "for key,value in mode_dict.items():\n",
    "    if max_value==value:\n",
    "        mode_list.append(key)\n",
    "my_dict['mode']=mode_list  # we add mode in dict\n",
    "\n",
    "# for meadian\n",
    "if len(lst1)%2==0:\n",
    "    my_dict['median']=(lst1[len(lst1)//2]+lst1[(len(lst1)//2-1)])/2  # when two number are median then take avrage \n",
    "else:\n",
    "    my_dict['median']=lst1[len(lst1)//2]\n",
    "    \n",
    "print(my_dict)"
   ]
  },
  {
   "cell_type": "markdown",
   "metadata": {},
   "source": []
  },
  {
   "cell_type": "code",
   "execution_count": null,
   "metadata": {},
   "outputs": [],
   "source": []
  }
 ],
 "metadata": {
  "kernelspec": {
   "display_name": "Python 3",
   "language": "python",
   "name": "python3"
  },
  "language_info": {
   "codemirror_mode": {
    "name": "ipython",
    "version": 3
   },
   "file_extension": ".py",
   "mimetype": "text/x-python",
   "name": "python",
   "nbconvert_exporter": "python",
   "pygments_lexer": "ipython3",
   "version": "3.11.4"
  }
 },
 "nbformat": 4,
 "nbformat_minor": 2
}
