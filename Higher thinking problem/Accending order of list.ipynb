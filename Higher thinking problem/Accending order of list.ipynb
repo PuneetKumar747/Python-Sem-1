{
 "cells": [
  {
   "cell_type": "markdown",
   "metadata": {},
   "source": [
    "Given a list of numbers, sort it in ascending order."
   ]
  },
  {
   "cell_type": "code",
   "execution_count": 6,
   "metadata": {},
   "outputs": [
    {
     "name": "stdout",
     "output_type": "stream",
     "text": [
      "[3, 4, 5, 6, 7, 8, 8.35, 23, 34]\n"
     ]
    }
   ],
   "source": [
    "# Given a list of numbers, sort it in ascending order.\n",
    "lst1=[23,34,3,4,5,6,7,8,8.35]\n",
    "lst2=lst1.copy() # copy of lst1\n",
    "lst_acending=[] # crete empty list for appending\n",
    "for i in range(len(lst1)): # alliterating over each no in given list\n",
    "    min=lst2[0] # assuming list first as least value\n",
    "    for j in lst2: # once again alliterating each value\n",
    "        if j<min: # if i becomes min\n",
    "            min=j # so now min value changed and become that i value\n",
    "    lst_acending.append(min) # now that value appending each time\n",
    "    lst2.remove(min) # we put this to avoid repetation \n",
    "print(lst_acending)\n"
   ]
  },
  {
   "cell_type": "code",
   "execution_count": null,
   "metadata": {},
   "outputs": [],
   "source": []
  }
 ],
 "metadata": {
  "kernelspec": {
   "display_name": "Python 3",
   "language": "python",
   "name": "python3"
  },
  "language_info": {
   "codemirror_mode": {
    "name": "ipython",
    "version": 3
   },
   "file_extension": ".py",
   "mimetype": "text/x-python",
   "name": "python",
   "nbconvert_exporter": "python",
   "pygments_lexer": "ipython3",
   "version": "3.11.4"
  }
 },
 "nbformat": 4,
 "nbformat_minor": 2
}
