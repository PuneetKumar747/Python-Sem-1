{
 "cells": [
  {
   "cell_type": "markdown",
   "metadata": {},
   "source": [
    "Given two numbers, find its Greatest Common Divisor (Divisor)."
   ]
  },
  {
   "cell_type": "code",
   "execution_count": 18,
   "metadata": {},
   "outputs": [
    {
     "data": {
      "text/plain": [
       "('gcd for given problem is', 1)"
      ]
     },
     "execution_count": 18,
     "metadata": {},
     "output_type": "execute_result"
    }
   ],
   "source": [
    "def gretest_common_divisor(n1,n2):\n",
    "    if n1>n2:# conditon for checking greater number\n",
    "        smaller=n2\n",
    "    else:\n",
    "        smaller=n1\n",
    "    list1=[] # free variable on the form of list\n",
    "    for i in range(1,smaller+1): # alliterating each number upto given smaller number\n",
    "        if n1%i==0 and n2%i==0:# the number which divide both in zero times\n",
    "            list1.append(i) # appending all the number \n",
    "    return 'gcd for given problem is',max(list1) # max of append number become gretest comman divisor\n",
    "gretest_common_divisor(101,12)\n",
    "\n"
   ]
  },
  {
   "cell_type": "code",
   "execution_count": null,
   "metadata": {},
   "outputs": [],
   "source": []
  }
 ],
 "metadata": {
  "kernelspec": {
   "display_name": "Python 3",
   "language": "python",
   "name": "python3"
  },
  "language_info": {
   "codemirror_mode": {
    "name": "ipython",
    "version": 3
   },
   "file_extension": ".py",
   "mimetype": "text/x-python",
   "name": "python",
   "nbconvert_exporter": "python",
   "pygments_lexer": "ipython3",
   "version": "3.11.4"
  }
 },
 "nbformat": 4,
 "nbformat_minor": 2
}
