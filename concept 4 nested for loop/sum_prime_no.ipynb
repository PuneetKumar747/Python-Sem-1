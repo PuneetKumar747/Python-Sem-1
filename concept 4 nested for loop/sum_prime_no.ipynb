{
 "cells": [
  {
   "cell_type": "markdown",
   "metadata": {},
   "source": [
    "Given a positive integers, find out the sum of all prime numbers from 1 up to this number."
   ]
  },
  {
   "cell_type": "code",
   "execution_count": 12,
   "metadata": {},
   "outputs": [
    {
     "data": {
      "text/plain": [
       "10"
      ]
     },
     "execution_count": 12,
     "metadata": {},
     "output_type": "execute_result"
    }
   ],
   "source": [
    "def prime_no(n):\n",
    "    if n<2:# prime number starts from 2\n",
    "        return 'invalid input ! it contains only positive number and starts from 2'\n",
    "    else:\n",
    "        total_sum=0 # free variable to find total sum\n",
    "        for i in range(2,n+1): #alliteraing all number stats from 2\n",
    "            d=int(i**0.5) #finding square root if every number\n",
    "            c=0\n",
    "            for j in range(2,d+1):#alliteraing all the numbr upto square root of each number\n",
    "                if i%j==0:# conditon which donot follow rule of prime number\n",
    "                    c+=1\n",
    "            if c==0:# condation which follow prime number\n",
    "                total_sum+=i # finding total sum\n",
    "    return total_sum\n",
    "\n",
    "prime_no(5)\n"
   ]
  },
  {
   "cell_type": "code",
   "execution_count": null,
   "metadata": {},
   "outputs": [],
   "source": []
  }
 ],
 "metadata": {
  "kernelspec": {
   "display_name": "Python 3",
   "language": "python",
   "name": "python3"
  },
  "language_info": {
   "codemirror_mode": {
    "name": "ipython",
    "version": 3
   },
   "file_extension": ".py",
   "mimetype": "text/x-python",
   "name": "python",
   "nbconvert_exporter": "python",
   "pygments_lexer": "ipython3",
   "version": "3.11.4"
  }
 },
 "nbformat": 4,
 "nbformat_minor": 2
}
