{
 "cells": [
  {
   "cell_type": "markdown",
   "metadata": {},
   "source": [
    "Given a list of numbers, find out how many times each number occurs in the list"
   ]
  },
  {
   "cell_type": "code",
   "execution_count": 3,
   "metadata": {},
   "outputs": [
    {
     "data": {
      "text/plain": [
       "{1: 4, 2: 3, 3: 3, 4: 2, 5: 2, 6: 1}"
      ]
     },
     "execution_count": 3,
     "metadata": {},
     "output_type": "execute_result"
    }
   ],
   "source": [
    "def list1(n): # taking input in the form of list\n",
    "    dict1={} # free variable in the form of dictionary \n",
    "    for i in n: # alliterating all the no in the list\n",
    "        if i not in dict1: # conditon for the no which comes one times\n",
    "            dict1[i]=1\n",
    "        else:\n",
    "            dict1[i]+=1 # condition for no which alliterating in the list\n",
    "    return dict1\n",
    "list1([1,1,2,3,4,5,6,5,4,3,3,2,2,1,1])"
   ]
  },
  {
   "cell_type": "code",
   "execution_count": null,
   "metadata": {},
   "outputs": [],
   "source": []
  }
 ],
 "metadata": {
  "kernelspec": {
   "display_name": "Python 3",
   "language": "python",
   "name": "python3"
  },
  "language_info": {
   "codemirror_mode": {
    "name": "ipython",
    "version": 3
   },
   "file_extension": ".py",
   "mimetype": "text/x-python",
   "name": "python",
   "nbconvert_exporter": "python",
   "pygments_lexer": "ipython3",
   "version": "3.11.4"
  }
 },
 "nbformat": 4,
 "nbformat_minor": 2
}
