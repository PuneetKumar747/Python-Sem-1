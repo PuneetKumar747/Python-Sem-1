{
 "cells": [
  {
   "cell_type": "markdown",
   "metadata": {},
   "source": [
    "Given a list of positive integers, find the factorial of all the numbers."
   ]
  },
  {
   "cell_type": "code",
   "execution_count": 1,
   "metadata": {},
   "outputs": [
    {
     "data": {
      "text/plain": [
       "[479001600, 24, 120, 720, 5040, 1]"
      ]
     },
     "execution_count": 1,
     "metadata": {},
     "output_type": "execute_result"
    }
   ],
   "source": [
    "def factorial_no(n):\n",
    "    fact_no=[] # free variable in form of list\n",
    "    for i in n: # alliterating over all the number\n",
    "        if i>0: # factorial can only be find for positive number\n",
    "            fact=1\n",
    "            for j in range(1,i+1): # alliterating upto that given number in list\n",
    "                fact*=j # multiple each number\n",
    "        fact_no.append(fact) # now appending one by one\n",
    "    return fact_no\n",
    "\n",
    "factorial_no([12,4,5,6,7,1])\n"
   ]
  },
  {
   "cell_type": "code",
   "execution_count": null,
   "metadata": {},
   "outputs": [],
   "source": []
  }
 ],
 "metadata": {
  "kernelspec": {
   "display_name": "Python 3",
   "language": "python",
   "name": "python3"
  },
  "language_info": {
   "codemirror_mode": {
    "name": "ipython",
    "version": 3
   },
   "file_extension": ".py",
   "mimetype": "text/x-python",
   "name": "python",
   "nbconvert_exporter": "python",
   "pygments_lexer": "ipython3",
   "version": "3.11.4"
  }
 },
 "nbformat": 4,
 "nbformat_minor": 2
}
