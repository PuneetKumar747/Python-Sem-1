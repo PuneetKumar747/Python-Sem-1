{
 "cells": [
  {
   "cell_type": "markdown",
   "metadata": {},
   "source": [
    "Given a list of integers, find all pairs of integers in the list whose sum is zero"
   ]
  },
  {
   "cell_type": "code",
   "execution_count": 12,
   "metadata": {},
   "outputs": [
    {
     "name": "stdout",
     "output_type": "stream",
     "text": [
      "pair of given input is 1 -1\n",
      "pair of given input is 2 -2\n",
      "pair of given input is -3 3\n",
      "pair of given input is -7 7\n"
     ]
    }
   ],
   "source": [
    "\n",
    "n=[1,2,-3,-7,-1,-2,4,7,9,3] # given list\n",
    "for i in n:# alliteraing in the list\n",
    "    for j in n: # and again....\n",
    "        if i+j==0 and n.index(i)< n.index(j): # condition for zero and one times apperance\n",
    "            print ('pair of given input is',i,j)\n"
   ]
  },
  {
   "cell_type": "code",
   "execution_count": null,
   "metadata": {},
   "outputs": [],
   "source": []
  }
 ],
 "metadata": {
  "kernelspec": {
   "display_name": "Python 3",
   "language": "python",
   "name": "python3"
  },
  "language_info": {
   "codemirror_mode": {
    "name": "ipython",
    "version": 3
   },
   "file_extension": ".py",
   "mimetype": "text/x-python",
   "name": "python",
   "nbconvert_exporter": "python",
   "pygments_lexer": "ipython3",
   "version": "3.11.4"
  }
 },
 "nbformat": 4,
 "nbformat_minor": 2
}
