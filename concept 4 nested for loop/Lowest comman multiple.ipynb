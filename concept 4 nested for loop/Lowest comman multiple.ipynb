{
 "cells": [
  {
   "cell_type": "markdown",
   "metadata": {},
   "source": [
    "Given two numbers, find its Least Common Multiple (LCM)."
   ]
  },
  {
   "cell_type": "code",
   "execution_count": 1,
   "metadata": {},
   "outputs": [
    {
     "data": {
      "text/plain": [
       "('Lcm of given output is', 48)"
      ]
     },
     "execution_count": 1,
     "metadata": {},
     "output_type": "execute_result"
    }
   ],
   "source": [
    "def Lcm(n1,n2):\n",
    "    if n1>n2: # condition for finding greater number\n",
    "        max_num=n1\n",
    "    else:\n",
    "        max_num=n2\n",
    "    list1=[] # finding free variable\n",
    "    for i in range(max_num,(n1*n2)+1): # alliterating all the no upto product of given number\n",
    "        if i%n1==0 and i%n2==0: # condition applied when both the input no divide any number\n",
    "            list1.append(i) # appending the number\n",
    "    return 'Lcm of given output is',min(list1) # least number is Lcm of given input no\n",
    "Lcm(12,16)\n",
    "    "
   ]
  },
  {
   "cell_type": "code",
   "execution_count": null,
   "metadata": {},
   "outputs": [],
   "source": []
  }
 ],
 "metadata": {
  "kernelspec": {
   "display_name": "Python 3",
   "language": "python",
   "name": "python3"
  },
  "language_info": {
   "codemirror_mode": {
    "name": "ipython",
    "version": 3
   },
   "file_extension": ".py",
   "mimetype": "text/x-python",
   "name": "python",
   "nbconvert_exporter": "python",
   "pygments_lexer": "ipython3",
   "version": "3.11.4"
  }
 },
 "nbformat": 4,
 "nbformat_minor": 2
}
