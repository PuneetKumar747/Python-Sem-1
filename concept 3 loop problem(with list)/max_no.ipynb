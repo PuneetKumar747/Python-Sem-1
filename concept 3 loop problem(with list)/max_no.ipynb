{
 "cells": [
  {
   "cell_type": "code",
   "execution_count": 8,
   "metadata": {},
   "outputs": [
    {
     "data": {
      "text/plain": [
       "109"
      ]
     },
     "execution_count": 8,
     "metadata": {},
     "output_type": "execute_result"
    }
   ],
   "source": [
    "def max_no(n): # taking input in the form of list\n",
    "    max=n[0] # define first element as max no\n",
    "    for i in n: # alliteraitng over all the no on the list\n",
    "        if i>n[0]: # if this conditon happen or any other no greater than the first no\n",
    "            max=i # max no that no\n",
    "            \n",
    "    return max\n",
    "\n",
    "max_no([23,4,5,6,72,105,108,109])"
   ]
  },
  {
   "cell_type": "code",
   "execution_count": null,
   "metadata": {},
   "outputs": [],
   "source": []
  }
 ],
 "metadata": {
  "kernelspec": {
   "display_name": "Python 3",
   "language": "python",
   "name": "python3"
  },
  "language_info": {
   "codemirror_mode": {
    "name": "ipython",
    "version": 3
   },
   "file_extension": ".py",
   "mimetype": "text/x-python",
   "name": "python",
   "nbconvert_exporter": "python",
   "pygments_lexer": "ipython3",
   "version": "3.11.4"
  }
 },
 "nbformat": 4,
 "nbformat_minor": 2
}
