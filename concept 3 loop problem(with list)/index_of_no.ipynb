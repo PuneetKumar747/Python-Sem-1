{
 "cells": [
  {
   "cell_type": "code",
   "execution_count": 8,
   "metadata": {},
   "outputs": [
    {
     "name": "stdout",
     "output_type": "stream",
     "text": [
      "index of number 5 from Starting is 4\n",
      "index of number 5 from End is - 10\n"
     ]
    }
   ],
   "source": [
    "a=int(input('Enter the number'))\n",
    "list1=[1,2,3,4,5,6,9,0,-1,8,6,4,1,0] # define list \n",
    "if a not in list1: # if the given number not in define list\n",
    "    print(a,'is not present in define list')\n",
    "else:\n",
    "    b=0 # define free variable to count total number in given list,for finding index for back side\n",
    "    for j in list1: # alliteraing over all the number in list\n",
    "        b+=1 # counting each number\n",
    "    count=0 # free variable for finding the index.so, when the input no match,the count variable assign to those no.\n",
    "    for i in list1:# alliterating over all the number\n",
    "        count+=1 # counting upto match input number\n",
    "        if i==a: # if input numbr match with the define number\n",
    "            c=count-1 # index of input no from starting\n",
    "            print('index of number',a,'from Starting is',c)\n",
    "            print('index of number',a,'from End is','-',b-c)\n",
    "\n"
   ]
  },
  {
   "cell_type": "code",
   "execution_count": null,
   "metadata": {},
   "outputs": [],
   "source": []
  }
 ],
 "metadata": {
  "kernelspec": {
   "display_name": "Python 3",
   "language": "python",
   "name": "python3"
  },
  "language_info": {
   "codemirror_mode": {
    "name": "ipython",
    "version": 3
   },
   "file_extension": ".py",
   "mimetype": "text/x-python",
   "name": "python",
   "nbconvert_exporter": "python",
   "pygments_lexer": "ipython3",
   "version": "3.11.4"
  }
 },
 "nbformat": 4,
 "nbformat_minor": 2
}
