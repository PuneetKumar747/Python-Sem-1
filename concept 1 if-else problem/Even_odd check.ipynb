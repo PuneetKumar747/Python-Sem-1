{
 "cells": [
  {
   "cell_type": "code",
   "execution_count": 3,
   "metadata": {},
   "outputs": [
    {
     "data": {
      "text/plain": [
       "'Sorry !checking for even or odd only support integar number'"
      ]
     },
     "execution_count": 3,
     "metadata": {},
     "output_type": "execute_result"
    }
   ],
   "source": [
    "# Here we are defining the function for this problem\n",
    "def oddeven_check(n):\n",
    "    if isinstance(n,int):\n",
    "        if n%2==0: # checking divibility test by 2\n",
    "            return 'even number'\n",
    "        else:\n",
    "            return 'odd number'\n",
    "    else:\n",
    "        return 'Sorry ! even or odd only support integar number'\n",
    "oddeven_check(98.01)\n",
    "# oddeven_check(540)\n"
   ]
  },
  {
   "cell_type": "code",
   "execution_count": null,
   "metadata": {},
   "outputs": [],
   "source": []
  }
 ],
 "metadata": {
  "kernelspec": {
   "display_name": "Python 3",
   "language": "python",
   "name": "python3"
  },
  "language_info": {
   "codemirror_mode": {
    "name": "ipython",
    "version": 3
   },
   "file_extension": ".py",
   "mimetype": "text/x-python",
   "name": "python",
   "nbconvert_exporter": "python",
   "pygments_lexer": "ipython3",
   "version": "3.11.4"
  }
 },
 "nbformat": 4,
 "nbformat_minor": 2
}
