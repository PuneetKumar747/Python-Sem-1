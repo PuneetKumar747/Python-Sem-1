{
 "cells": [
  {
   "cell_type": "markdown",
   "metadata": {},
   "source": [
    "Given three integers, find the smallest one"
   ]
  },
  {
   "cell_type": "code",
   "execution_count": 1,
   "metadata": {},
   "outputs": [
    {
     "data": {
      "text/plain": [
       "'c is smallest number'"
      ]
     },
     "execution_count": 1,
     "metadata": {},
     "output_type": "execute_result"
    }
   ],
   "source": [
    "def smallest_no(a,b,c): \n",
    "    if a==b==c:# when all three are equal\n",
    "        return 'all three number are equal'\n",
    "    \n",
    "    elif a<b: # when a become smaller\n",
    "        if a<c:# when a is smallest \n",
    "            return 'a is smallest number'\n",
    "        else: # so on \n",
    "            return 'c is smallest number'\n",
    "    else:\n",
    "        if b<c:# when b is smaller \n",
    "            return 'b is smallest number'\n",
    "        else: # so on \n",
    "            return 'c is smallest number'\n",
    "smallest_no(2,0,-2)\n"
   ]
  },
  {
   "cell_type": "code",
   "execution_count": null,
   "metadata": {},
   "outputs": [],
   "source": []
  }
 ],
 "metadata": {
  "kernelspec": {
   "display_name": "Python 3",
   "language": "python",
   "name": "python3"
  },
  "language_info": {
   "codemirror_mode": {
    "name": "ipython",
    "version": 3
   },
   "file_extension": ".py",
   "mimetype": "text/x-python",
   "name": "python",
   "nbconvert_exporter": "python",
   "pygments_lexer": "ipython3",
   "version": "3.11.4"
  }
 },
 "nbformat": 4,
 "nbformat_minor": 2
}
