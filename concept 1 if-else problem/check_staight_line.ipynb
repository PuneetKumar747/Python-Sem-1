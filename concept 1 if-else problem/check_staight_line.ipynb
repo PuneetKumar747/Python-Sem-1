{
 "cells": [
  {
   "cell_type": "markdown",
   "metadata": {},
   "source": [
    "Given three points, find out whether they lie on the same straight line or not."
   ]
  },
  {
   "cell_type": "code",
   "execution_count": 1,
   "metadata": {},
   "outputs": [
    {
     "data": {
      "text/plain": [
       "'it is same staight line'"
      ]
     },
     "execution_count": 1,
     "metadata": {},
     "output_type": "execute_result"
    }
   ],
   "source": [
    "def check_straight_line(x1,y1,x2,y2,x3,y3):# taking points as (x1,y1),(x2,y2),(x3,y3)\n",
    "    c=((x2-x1)**2+(y2-y1)**2)**0.5# calculating distance b/w first two point\n",
    "    d=((x3-x2)**2+(y3-y2)**2)**0.5 # calculating distance between last two points \n",
    "    cd=((x3-x1)**2+(y3-y1)**2)**0.5 # distance between first and last points\n",
    "    if c+d==cd: # applying distance formula concept(ab+bc=ac)\n",
    "        return 'it is same staight line'\n",
    "    else:\n",
    "        return 'it is not form a staight line'\n",
    "    \n",
    "check_straight_line(1,2,3,4,5,6)"
   ]
  },
  {
   "cell_type": "code",
   "execution_count": null,
   "metadata": {},
   "outputs": [],
   "source": []
  }
 ],
 "metadata": {
  "kernelspec": {
   "display_name": "Python 3",
   "language": "python",
   "name": "python3"
  },
  "language_info": {
   "codemirror_mode": {
    "name": "ipython",
    "version": 3
   },
   "file_extension": ".py",
   "mimetype": "text/x-python",
   "name": "python",
   "nbconvert_exporter": "python",
   "pygments_lexer": "ipython3",
   "version": "3.11.4"
  }
 },
 "nbformat": 4,
 "nbformat_minor": 2
}
