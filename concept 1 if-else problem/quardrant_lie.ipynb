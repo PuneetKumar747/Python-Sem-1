{
 "cells": [
  {
   "cell_type": "markdown",
   "metadata": {},
   "source": [
    "Given a point (x1, y1), find the quadrant in which this point lies"
   ]
  },
  {
   "cell_type": "code",
   "execution_count": 5,
   "metadata": {},
   "outputs": [
    {
     "data": {
      "text/plain": [
       "'it lie in the fourth quadrant'"
      ]
     },
     "execution_count": 5,
     "metadata": {},
     "output_type": "execute_result"
    }
   ],
   "source": [
    "def quardrant_lie(x1,y1):\n",
    "    if x1>0:# applying condition so that x-axis are in positive \n",
    "        if y1>0:# when both the given points in positive \n",
    "            return 'it lie in the first quadrant'\n",
    "        else: # when y1 becoome negative \n",
    "            return 'it lie in the fourth quadrant'\n",
    "    else:# condition when x-axis become negative\n",
    "        if y1>0:# when y1 become positive \n",
    "            return 'it lie in the second quadrant'\n",
    "        else:# when y1 become negative \n",
    "            return 'it lie in the third quadrant'\n",
    "quardrant_lie(4,-4)\n"
   ]
  },
  {
   "cell_type": "code",
   "execution_count": null,
   "metadata": {},
   "outputs": [],
   "source": []
  }
 ],
 "metadata": {
  "kernelspec": {
   "display_name": "Python 3",
   "language": "python",
   "name": "python3"
  },
  "language_info": {
   "codemirror_mode": {
    "name": "ipython",
    "version": 3
   },
   "file_extension": ".py",
   "mimetype": "text/x-python",
   "name": "python",
   "nbconvert_exporter": "python",
   "pygments_lexer": "ipython3",
   "version": "3.11.4"
  }
 },
 "nbformat": 4,
 "nbformat_minor": 2
}
