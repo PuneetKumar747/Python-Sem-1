{
 "cells": [
  {
   "cell_type": "markdown",
   "metadata": {},
   "source": [
    "Given two points (x1, y1) and (x2, y2), find the slope and intercept of the line joining these two points (the line may be perfectly horizontal or vertical)"
   ]
  },
  {
   "cell_type": "code",
   "execution_count": 4,
   "metadata": {},
   "outputs": [
    {
     "data": {
      "text/plain": [
       "(0.5, 1.5)"
      ]
     },
     "execution_count": 4,
     "metadata": {},
     "output_type": "execute_result"
    }
   ],
   "source": [
    "def slope_and_intercept(x1,y1,x2,y2):\n",
    "    if x2-x1!=0:# avoid when both point lie in same x-axis\n",
    "        slope=(y2-y1)/(x2-x1)# calculating slope \n",
    "    else:\n",
    "        slope='undefined'# when both the  line are vertical \n",
    "    if slope !='undefined': \n",
    "        intercept=y1-slope*x1 #calculating intercept \n",
    "    else:\n",
    "        intercept=None # verical line doesnot have intercept \n",
    "    return slope,intercept\n",
    "slope_and_intercept(1,2,5,4)\n",
    "\n"
   ]
  },
  {
   "cell_type": "code",
   "execution_count": null,
   "metadata": {},
   "outputs": [],
   "source": []
  }
 ],
 "metadata": {
  "kernelspec": {
   "display_name": "Python 3",
   "language": "python",
   "name": "python3"
  },
  "language_info": {
   "codemirror_mode": {
    "name": "ipython",
    "version": 3
   },
   "file_extension": ".py",
   "mimetype": "text/x-python",
   "name": "python",
   "nbconvert_exporter": "python",
   "pygments_lexer": "ipython3",
   "version": "3.11.4"
  }
 },
 "nbformat": 4,
 "nbformat_minor": 2
}
