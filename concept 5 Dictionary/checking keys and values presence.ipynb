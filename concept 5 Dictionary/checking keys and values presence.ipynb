{
 "cells": [
  {
   "cell_type": "markdown",
   "metadata": {},
   "source": [
    "Check if a key exists in a dictionary:\n",
    "sample_dict = {‘a’: 100, ‘b’: 200, ‘c’: 300}\n",
    "key_needed = ‘d’\n",
    "Check if a value exists in a dictionary:\n",
    "sample_dict = {‘a’: 100, ‘b’: 200, ‘c’: 300}\n",
    "value_needed = 200"
   ]
  },
  {
   "cell_type": "code",
   "execution_count": 5,
   "metadata": {},
   "outputs": [
    {
     "name": "stdout",
     "output_type": "stream",
     "text": [
      "d absent in keys\n",
      "200 present in the values\n"
     ]
    }
   ],
   "source": [
    "sample_dict = {'a':100,'b': 200,'c': 300}\n",
    "key_needed='d' # this we have to check in keys,Is this present or not\n",
    "if key_needed in sample_dict.keys(): # checking it is present or not \n",
    "    print(key_needed,'present in keys')\n",
    "else:\n",
    "    print(key_needed,'absent in keys')\n",
    "sample_dict = {'a': 100,'b':200, 'c': 300} # Given dictionary\n",
    "value_needed=200 # this we have to check this values present or not\n",
    "if value_needed in sample_dict.values(): # checking the condition are present or not\n",
    "    print(value_needed, 'present in the values' )\n",
    "else:\n",
    "    print(value_needed, 'not present in the values' )"
   ]
  }
 ],
 "metadata": {
  "kernelspec": {
   "display_name": "Python 3",
   "language": "python",
   "name": "python3"
  },
  "language_info": {
   "codemirror_mode": {
    "name": "ipython",
    "version": 3
   },
   "file_extension": ".py",
   "mimetype": "text/x-python",
   "name": "python",
   "nbconvert_exporter": "python",
   "pygments_lexer": "ipython3",
   "version": "3.11.4"
  }
 },
 "nbformat": 4,
 "nbformat_minor": 2
}
