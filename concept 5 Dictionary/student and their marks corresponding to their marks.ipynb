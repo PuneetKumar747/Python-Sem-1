{
 "cells": [
  {
   "cell_type": "markdown",
   "metadata": {},
   "source": [
    "Create a dictionary to store the total marks of 5 students in the class in 3 subjects (Course1, Course2, Course3). The keys must be the student names, and the values must be the list of marks. Create another list which has the course names in the same order as the marks are stored in the dictionary values. Now write a nested for loop to print the marks for each student exam wise.\n",
    "Student1\n",
    "Course1 marks : 82\n",
    "Course2 marks : 84\n",
    "Course3 marks : 72\n",
    "Student2\n",
    "Course1 marks : 87\n",
    "Course2 marks : 83\n",
    "Course3 marks : 78"
   ]
  },
  {
   "cell_type": "code",
   "execution_count": 2,
   "metadata": {},
   "outputs": [
    {
     "name": "stdout",
     "output_type": "stream",
     "text": [
      "{'Vinod': [30, 70, 90], 'Sneha': [80, 89.0, 45], 'Rahul': [75, 25, 75], 'James': [85, 87.9, 23], 'Allen': [80, 94, 25]}\n",
      "['Mathematics', 'Physics', 'English']\n",
      "\n",
      "\n",
      "Vinod\n",
      "Mathematics : 30\n",
      "Physics : 70\n",
      "English : 90\n",
      "\n",
      "\n",
      "Sneha\n",
      "Mathematics : 80\n",
      "Physics : 89.0\n",
      "English : 45\n",
      "\n",
      "\n",
      "Rahul\n",
      "Mathematics : 75\n",
      "Physics : 25\n",
      "English : 75\n",
      "\n",
      "\n",
      "James\n",
      "Mathematics : 85\n",
      "Physics : 87.9\n",
      "English : 23\n",
      "\n",
      "\n",
      "Allen\n",
      "Mathematics : 80\n",
      "Physics : 94\n",
      "English : 25\n",
      "\n",
      "\n"
     ]
    }
   ],
   "source": [
    "dict1={} # create empty list\n",
    "dict1['Vinod']=[30,70,90] # inserting name and their marks respectively\n",
    "dict1['Sneha']=[80,89.0,45] # and so on....\n",
    "dict1['Rahul']=[75,25,75]\n",
    "dict1['James']=[85,87.9,23]\n",
    "dict1['Allen']=[80,94,25] #....\n",
    "print(dict1)\n",
    "lst1=[] # create empty list\n",
    "lst1.append('Mathematics') # now appending each course \n",
    "lst1.append('Physics')# so on..\n",
    "lst1.append('English') #...\n",
    "print(lst1)\n",
    "print('\\n')\n",
    " \n",
    "for key,value in dict1.items(): # allitrating over dictionary\n",
    "    print(key)\n",
    "    for i in range(len(lst1)): # range upto given len of course\n",
    "        print(lst1[i] ,':',value[i]) # adding couse and their marks accordingly\n",
    "    print('\\n')\n"
   ]
  },
  {
   "cell_type": "code",
   "execution_count": null,
   "metadata": {},
   "outputs": [],
   "source": []
  }
 ],
 "metadata": {
  "kernelspec": {
   "display_name": "Python 3",
   "language": "python",
   "name": "python3"
  },
  "language_info": {
   "codemirror_mode": {
    "name": "ipython",
    "version": 3
   },
   "file_extension": ".py",
   "mimetype": "text/x-python",
   "name": "python",
   "nbconvert_exporter": "python",
   "pygments_lexer": "ipython3",
   "version": "3.11.4"
  }
 },
 "nbformat": 4,
 "nbformat_minor": 2
}
