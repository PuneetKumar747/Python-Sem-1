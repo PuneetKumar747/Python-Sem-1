{
 "cells": [
  {
   "cell_type": "markdown",
   "metadata": {},
   "source": [
    "Create a new dictionary so that it only has the keys mentioned in another list\n",
    "sample_dict = { “name”: “Kelly”, “age”: 25, “salary”: 8000, “city”: “New york”}\n",
    "# Keys to extract\n",
    "keys = [“name”, “salary”]"
   ]
  },
  {
   "cell_type": "code",
   "execution_count": 4,
   "metadata": {},
   "outputs": [
    {
     "name": "stdout",
     "output_type": "stream",
     "text": [
      "{'name': 'Kelly', 'salary': 8000}\n"
     ]
    }
   ],
   "source": [
    "sample_dict = { 'name': 'Kelly', \"age\": 25, \"salary\": 8000, \"city\": \"New york\"}\n",
    "# keys Extract\n",
    "keys = [\"name\", \"salary\"] # the values and keys we have to extract from given dict through this key.\n",
    "New_dict={} # new dictionary\n",
    "for i in keys: # alliterating over keys in given list\n",
    "    if i in sample_dict.keys(): # checking if same key present or not in given dictionary\n",
    "        New_dict[i]=sample_dict[i] # inserating key and value in new dictionary\n",
    "print(New_dict)\n",
    "    \n"
   ]
  }
 ],
 "metadata": {
  "kernelspec": {
   "display_name": "Python 3",
   "language": "python",
   "name": "python3"
  },
  "language_info": {
   "codemirror_mode": {
    "name": "ipython",
    "version": 3
   },
   "file_extension": ".py",
   "mimetype": "text/x-python",
   "name": "python",
   "nbconvert_exporter": "python",
   "pygments_lexer": "ipython3",
   "version": "3.11.4"
  }
 },
 "nbformat": 4,
 "nbformat_minor": 2
}
