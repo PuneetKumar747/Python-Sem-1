{
 "cells": [
  {
   "cell_type": "markdown",
   "metadata": {},
   "source": [
    "Remove a key from a dictionary:\n",
    "dict_name.pop(key_name)\n",
    "What does this function return?\n",
    "Use pop to rename a key."
   ]
  },
  {
   "cell_type": "code",
   "execution_count": 8,
   "metadata": {},
   "outputs": [
    {
     "name": "stdout",
     "output_type": "stream",
     "text": [
      "{'Vinod': 30, 'Kishor': 90, 'Sneha': 20}\n",
      "\n",
      "\n",
      "{'Vinod': 30, 'Kishor': 90, 'Sneha': 20, 'hema': 95}\n",
      "\n",
      "\n",
      "{'Vinod': 30, 'Hema': 60, 'Kishor': 90, 'Sneha': 20}\n"
     ]
    }
   ],
   "source": [
    "dict_name={'Vinod':30,\"Hema\":60,\"Kishor\":90,'Sneha':20}\n",
    "dict2=dict_name.copy() # copy above dictionary\n",
    "dict2.pop('Hema') # pop one key\n",
    "print(dict2) # pop() remove that items at that instance only, not parmanently and pop up too.s  \n",
    "print('\\n')\n",
    "if 'Hema' not in dict2.keys():# checking,Is that key present or not after pop,if no then update this\n",
    "    dict2['hema']=95\n",
    "else:\n",
    "    'it already Exit'\n",
    "print(dict2)\n",
    "print('\\n')\n",
    "print(dict_name)"
   ]
  },
  {
   "cell_type": "code",
   "execution_count": null,
   "metadata": {},
   "outputs": [],
   "source": []
  }
 ],
 "metadata": {
  "kernelspec": {
   "display_name": "Python 3",
   "language": "python",
   "name": "python3"
  },
  "language_info": {
   "codemirror_mode": {
    "name": "ipython",
    "version": 3
   },
   "file_extension": ".py",
   "mimetype": "text/x-python",
   "name": "python",
   "nbconvert_exporter": "python",
   "pygments_lexer": "ipython3",
   "version": "3.11.4"
  }
 },
 "nbformat": 4,
 "nbformat_minor": 2
}
