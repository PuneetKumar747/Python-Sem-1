{
 "cells": [
  {
   "cell_type": "markdown",
   "metadata": {},
   "source": [
    "Convert these two lists into a dictionary. Take the keys from the first list, and values from the second one.\n",
    "keys = [‘Ten’, ‘Twenty’, ‘Thirty’]\n",
    "values = [10, 20, 30]"
   ]
  },
  {
   "cell_type": "code",
   "execution_count": 5,
   "metadata": {},
   "outputs": [
    {
     "name": "stdout",
     "output_type": "stream",
     "text": [
      "we can not form dictionary because of length are not same\n"
     ]
    }
   ],
   "source": [
    "keys=['Ten','Twenty','Thirty'] # Given keys\n",
    "values=[10,20,30,40] # Given values\n",
    "dict1={} # free variable in form of dictionary\n",
    "if len(keys)==len(values): # when both are of same length\n",
    "    for i in range(len(keys)): # applying range function upto that length of keys\n",
    "        dict1[keys[i]]=values[i] # inserting keys and values\n",
    "    print(dict1)\n",
    "else:\n",
    "    print('we can not form dictionary because of length are not same')\n"
   ]
  }
 ],
 "metadata": {
  "kernelspec": {
   "display_name": "Python 3",
   "language": "python",
   "name": "python3"
  },
  "language_info": {
   "codemirror_mode": {
    "name": "ipython",
    "version": 3
   },
   "file_extension": ".py",
   "mimetype": "text/x-python",
   "name": "python",
   "nbconvert_exporter": "python",
   "pygments_lexer": "ipython3",
   "version": "3.11.4"
  }
 },
 "nbformat": 4,
 "nbformat_minor": 2
}
