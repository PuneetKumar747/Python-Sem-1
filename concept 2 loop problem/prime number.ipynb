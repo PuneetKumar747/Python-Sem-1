{
 "cells": [
  {
   "cell_type": "markdown",
   "metadata": {},
   "source": [
    "Given a positive integer, find out if it’s prime or not"
   ]
  },
  {
   "cell_type": "code",
   "execution_count": 18,
   "metadata": {},
   "outputs": [
    {
     "data": {
      "text/plain": [
       "'it is not a prime no'"
      ]
     },
     "execution_count": 18,
     "metadata": {},
     "output_type": "execute_result"
    }
   ],
   "source": [
    "def prime_num(n):\n",
    "    if n<=1:# prime number starting  from 2\n",
    "        return 'it is not a prime no and invalid input'\n",
    "    else:\n",
    "        c=0# assign \n",
    "        d=int(n**0.5)# finding square root of given number \n",
    "        for i in range(2,d+1):# alliterating over square root no. of given number\n",
    "            if n%i==0:# dividing the no by the alliterating number \n",
    "                c+=1\n",
    "        if c==0:# if it is not then c=0 already \n",
    "            return 'it is a prime no'\n",
    "        else:\n",
    "            return 'it is not a prime no'\n",
    "prime_num(1155)\n",
    "\n"
   ]
  }
 ],
 "metadata": {
  "kernelspec": {
   "display_name": "Python 3",
   "language": "python",
   "name": "python3"
  },
  "language_info": {
   "codemirror_mode": {
    "name": "ipython",
    "version": 3
   },
   "file_extension": ".py",
   "mimetype": "text/x-python",
   "name": "python",
   "nbconvert_exporter": "python",
   "pygments_lexer": "ipython3",
   "version": "3.11.4"
  }
 },
 "nbformat": 4,
 "nbformat_minor": 2
}
